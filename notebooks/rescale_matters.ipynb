{
 "cells": [
  {
   "cell_type": "code",
   "execution_count": 2,
   "metadata": {},
   "outputs": [],
   "source": [
    "%load_ext autoreload\n",
    "%autoreload 2\n",
    "\n",
    "import sys\n",
    "sys.path.insert(0, \"../\")"
   ]
  },
  {
   "cell_type": "code",
   "execution_count": 3,
   "metadata": {},
   "outputs": [
    {
     "name": "stderr",
     "output_type": "stream",
     "text": [
      "/Users/hrt620/.pyenv/versions/3.9.9/envs/kb39/lib/python3.9/site-packages/jax/_src/lib/__init__.py:32: UserWarning: JAX on Mac ARM machines is experimental and minimally tested. Please see https://github.com/google/jax/issues/5501 in the event of problems.\n",
      "  warnings.warn(\"JAX on Mac ARM machines is experimental and minimally tested. \"\n"
     ]
    },
    {
     "ename": "ModuleNotFoundError",
     "evalue": "No module named 'weighted_kernels_jax'",
     "output_type": "error",
     "traceback": [
      "\u001b[0;31m---------------------------------------------------------------------------\u001b[0m",
      "\u001b[0;31mModuleNotFoundError\u001b[0m                       Traceback (most recent call last)",
      "\u001b[0;32m/var/folders/y1/g2pc13hn5xd4lvt3s2vrl6yc0000gp/T/ipykernel_177/716815642.py\u001b[0m in \u001b[0;36m<module>\u001b[0;34m\u001b[0m\n\u001b[1;32m     15\u001b[0m \u001b[0;32mfrom\u001b[0m \u001b[0mkernelbiome\u001b[0m\u001b[0;34m.\u001b[0m\u001b[0mmetrics_jax\u001b[0m \u001b[0;32mimport\u001b[0m \u001b[0;34m*\u001b[0m\u001b[0;34m\u001b[0m\u001b[0;34m\u001b[0m\u001b[0m\n\u001b[1;32m     16\u001b[0m \u001b[0;32mfrom\u001b[0m \u001b[0mkernelbiome\u001b[0m\u001b[0;34m.\u001b[0m\u001b[0mcfi_and_cpd\u001b[0m \u001b[0;32mimport\u001b[0m \u001b[0;34m*\u001b[0m\u001b[0;34m\u001b[0m\u001b[0;34m\u001b[0m\u001b[0m\n\u001b[0;32m---> 17\u001b[0;31m \u001b[0;32mfrom\u001b[0m \u001b[0mkernelbiome\u001b[0m\u001b[0;34m.\u001b[0m\u001b[0mutils_cv\u001b[0m \u001b[0;32mimport\u001b[0m \u001b[0;34m*\u001b[0m\u001b[0;34m\u001b[0m\u001b[0;34m\u001b[0m\u001b[0m\n\u001b[0m\u001b[1;32m     18\u001b[0m \u001b[0;32mfrom\u001b[0m \u001b[0mkernelbiome\u001b[0m\u001b[0;34m.\u001b[0m\u001b[0mutils_result\u001b[0m \u001b[0;32mimport\u001b[0m \u001b[0;34m*\u001b[0m\u001b[0;34m\u001b[0m\u001b[0;34m\u001b[0m\u001b[0m\n\u001b[1;32m     19\u001b[0m \u001b[0;34m\u001b[0m\u001b[0m\n",
      "\u001b[0;32m~/Documents/ku_projects/kernelbiome_proj/kernelbiome_clean/notebooks/../kernelbiome/utils_cv.py\u001b[0m in \u001b[0;36m<module>\u001b[0;34m\u001b[0m\n\u001b[1;32m      3\u001b[0m \u001b[0;32mfrom\u001b[0m \u001b[0mhelpers_jax\u001b[0m \u001b[0;32mimport\u001b[0m \u001b[0mwrap\u001b[0m\u001b[0;34m\u001b[0m\u001b[0;34m\u001b[0m\u001b[0m\n\u001b[1;32m      4\u001b[0m \u001b[0;32mfrom\u001b[0m \u001b[0mkernels_jax\u001b[0m \u001b[0;32mimport\u001b[0m \u001b[0;34m*\u001b[0m\u001b[0;34m\u001b[0m\u001b[0;34m\u001b[0m\u001b[0m\n\u001b[0;32m----> 5\u001b[0;31m \u001b[0;32mfrom\u001b[0m \u001b[0mweighted_kernels_jax\u001b[0m \u001b[0;32mimport\u001b[0m \u001b[0;34m*\u001b[0m\u001b[0;34m\u001b[0m\u001b[0;34m\u001b[0m\u001b[0m\n\u001b[0m\u001b[1;32m      6\u001b[0m \u001b[0;34m\u001b[0m\u001b[0m\n\u001b[1;32m      7\u001b[0m \u001b[0;34m\u001b[0m\u001b[0m\n",
      "\u001b[0;31mModuleNotFoundError\u001b[0m: No module named 'weighted_kernels_jax'"
     ]
    }
   ],
   "source": [
    "import numpy as np\n",
    "import numpy.linalg as la\n",
    "import pandas as pd\n",
    "from sklearn import svm\n",
    "from sklearn.kernel_ridge import KernelRidge\n",
    "from sklearn.ensemble import RandomForestRegressor\n",
    "from sklearn.dummy import DummyRegressor\n",
    "import seaborn as sns\n",
    "\n",
    "from IPython.display import clear_output\n",
    "import timeit\n",
    "from itertools import product\n",
    "\n",
    "from kernelbiome.kernels_jax import *\n",
    "from kernelbiome.metrics_jax import *\n",
    "from kernelbiome.cfi_and_cpd import *\n",
    "from kernelbiome.utils_cv import *\n",
    "from kernelbiome.utils_result import *\n",
    "\n",
    "import warnings\n",
    "warnings.filterwarnings('always')"
   ]
  },
  {
   "cell_type": "code",
   "execution_count": 23,
   "metadata": {},
   "outputs": [],
   "source": [
    "from matplotlib import rc\n",
    "rc('font', **{'family':'tex-gyre-termes', 'size':6.5})\n",
    "rc('text', usetex=True)\n",
    "rc('text.latex', preamble=r'\\usepackage{amsfonts,amssymb,amsthm,amsmath}')"
   ]
  },
  {
   "cell_type": "code",
   "execution_count": 24,
   "metadata": {},
   "outputs": [
    {
     "name": "stdout",
     "output_type": "stream",
     "text": [
      "(40, 4)\n"
     ]
    }
   ],
   "source": [
    "colors_all = np.vstack([plt.cm.tab20c(range(20)),plt.cm.tab20b(range(20))]) # plt.cm.tab10(range(10)), plt.cm.tab20(range(20)), plt.cm.tab20b(range(20)), \n",
    "colors_all = np.unique(colors_all, axis=0)\n",
    "print(colors_all.shape)"
   ]
  },
  {
   "cell_type": "code",
   "execution_count": 25,
   "metadata": {},
   "outputs": [],
   "source": [
    "rng = np.random.default_rng(2022)"
   ]
  },
  {
   "cell_type": "code",
   "execution_count": 26,
   "metadata": {},
   "outputs": [
    {
     "name": "stdout",
     "output_type": "stream",
     "text": [
      "(200, 3)\n"
     ]
    }
   ],
   "source": [
    "p = 3\n",
    "n = 200\n",
    "mu = [0,0,0]\n",
    "# cov = np.eye(3)\n",
    "cov = [[1, 0.25, -0.25],\n",
    "       [0.25, 1, 0.25],\n",
    "       [-0.25, 0.25, 1]]\n",
    "\n",
    "X = rng.multivariate_normal(mu, cov, n)\n",
    "X = np.exp(X)\n",
    "X /= X.sum(axis=1)[:,None]\n",
    "print(X.shape)"
   ]
  },
  {
   "cell_type": "markdown",
   "metadata": {},
   "source": [
    "### Linear model"
   ]
  },
  {
   "cell_type": "code",
   "execution_count": 27,
   "metadata": {},
   "outputs": [],
   "source": [
    "def true_fun(X):\n",
    "    return 10*X[:,0] + 10*X[:,1]"
   ]
  },
  {
   "cell_type": "markdown",
   "metadata": {},
   "source": [
    "CPD and CFI"
   ]
  },
  {
   "cell_type": "code",
   "execution_count": 28,
   "metadata": {},
   "outputs": [],
   "source": [
    "n_grid = 100\n",
    "supp_grid = np.zeros((n_grid, p))\n",
    "for jj in range(p):\n",
    "    supp_grid[:,jj] = np.linspace(min(X[:,jj]), max(X[:,jj]), num=n_grid)\n",
    "cpd_vals = get_cfi(X, supp_grid, true_fun, rescale=True, verbose=False)\n",
    "pdp_vals = get_cfi(X, supp_grid, true_fun, rescale=False, verbose=False)"
   ]
  },
  {
   "cell_type": "code",
   "execution_count": 29,
   "metadata": {},
   "outputs": [
    {
     "data": {
      "image/png": "[encoded data removed]",
      "text/plain": [
       "<Figure size 216x86.4 with 2 Axes>"
      ]
     },
     "metadata": {
      "needs_background": "light"
     },
     "output_type": "display_data"
    }
   ],
   "source": [
    "fig, axs = plt.subplots(1,2,figsize=(12, 6), gridspec_kw={'width_ratios': [1,1]})\n",
    "plot_cfi(supp_grid, cpd_vals, labels=[f'$X^{jj+1}$' for jj in range(X.shape[1])], colors=colors_all[::2], axs=axs[0])\n",
    "plot_cfi(supp_grid, pdp_vals, labels=[f'$X^{jj+1}$' for jj in range(X.shape[1])], colors=colors_all[::2], axs=axs[1], ylable='PDP')\n",
    "axs[0].annotate(r'$X^2$', (0.9, 3))\n",
    "axs[0].annotate(r'$X^1$', (0.9, 2))\n",
    "axs[0].annotate(r'$X^3$', (0.9, -5))\n",
    "axs[1].annotate(r'$X^2$', (0.9, 6))\n",
    "axs[1].annotate(r'$X^1$', (0.9, 4.5))\n",
    "axs[1].annotate(r'$X^3$', (0.9, -0.5))\n",
    "# axs[1].legend(loc='best', bbox_to_anchor=(1, 0.75, 0.2, 0.2))\n",
    "fig.set_size_inches(3, 1.2)\n",
    "fig.tight_layout()\n",
    "fig.savefig(\"example_f1_cpd_vs_pdp_lm.pdf\", bbox_inches='tight')\n",
    "plt.show()"
   ]
  },
  {
   "cell_type": "markdown",
   "metadata": {},
   "source": [
    "CFI v.s. CFI (no projection) v.s. PI"
   ]
  },
  {
   "cell_type": "code",
   "execution_count": 30,
   "metadata": {},
   "outputs": [
    {
     "data": {
      "text/plain": [
       "array([ 0.84649862,  0.87407802, -1.72057664])"
      ]
     },
     "execution_count": 30,
     "metadata": {},
     "output_type": "execute_result"
    }
   ],
   "source": [
    "df = num_df_mat(true_fun, 1e-5, X)\n",
    "cfi_index_vals = get_perturbation_cfi_index(X, df)\n",
    "cfi_index_vals"
   ]
  },
  {
   "cell_type": "code",
   "execution_count": 31,
   "metadata": {},
   "outputs": [
    {
     "data": {
      "text/plain": [
       "array([3.76070319, 2.98653789, 0.        ])"
      ]
     },
     "execution_count": 31,
     "metadata": {},
     "output_type": "execute_result"
    }
   ],
   "source": [
    "df = num_df_mat(true_fun, 1e-5, X)\n",
    "cfi_index_vals = get_perturbation_cfi_index(X, df, proj=False)\n",
    "cfi_index_vals"
   ]
  },
  {
   "cell_type": "code",
   "execution_count": 32,
   "metadata": {},
   "outputs": [
    {
     "data": {
      "text/plain": [
       "array([11.32687568,  5.8737949 ,  0.        ])"
      ]
     },
     "execution_count": 32,
     "metadata": {},
     "output_type": "execute_result"
    }
   ],
   "source": [
    "from sklearn.metrics import mean_squared_error\n",
    "\n",
    "B = 30\n",
    "perm_imp = np.zeros(3)\n",
    "baseline_mse = 0\n",
    "for jj in range(3):\n",
    "    for ii in range(B):\n",
    "        X_loc = X.copy()\n",
    "        rng.shuffle(X_loc[:,jj])\n",
    "        y_loc = true_fun(X_loc)\n",
    "        perm_imp[jj] += mean_squared_error(true_fun(X), y_loc) - baseline_mse\n",
    "perm_imp /= B\n",
    "perm_imp"
   ]
  },
  {
   "cell_type": "markdown",
   "metadata": {},
   "source": [
    "### Non-linear ratio model"
   ]
  },
  {
   "cell_type": "code",
   "execution_count": 33,
   "metadata": {},
   "outputs": [],
   "source": [
    "def true_fun(X):\n",
    "    \"\"\"\n",
    "    f(x) = (1-x^2-x^3)/(1-x^3)\n",
    "    \"\"\"\n",
    "    return 10*(1-X[:,1]-X[:,2])/(1-X[:,2])\n",
    "    # return 10*(X[:,0])/(X[:,0]+X[:,1])"
   ]
  },
  {
   "cell_type": "markdown",
   "metadata": {},
   "source": [
    "CPD v.s. PDP"
   ]
  },
  {
   "cell_type": "code",
   "execution_count": 34,
   "metadata": {},
   "outputs": [],
   "source": [
    "n_grid = 100\n",
    "supp_grid = np.zeros((n_grid, p))\n",
    "for jj in range(p):\n",
    "    supp_grid[:,jj] = np.linspace(min(X[:,jj]), max(X[:,jj]), num=n_grid)\n",
    "cpd_vals = get_cfi(X, supp_grid, true_fun, rescale=True, verbose=False)\n",
    "pdp_vals = get_cfi(X, supp_grid, true_fun, rescale=False, verbose=False)"
   ]
  },
  {
   "cell_type": "code",
   "execution_count": 35,
   "metadata": {},
   "outputs": [
    {
     "data": {
      "image/png": "[encoded data removed]",
      "text/plain": [
       "<Figure size 216x86.4 with 2 Axes>"
      ]
     },
     "metadata": {
      "needs_background": "light"
     },
     "output_type": "display_data"
    }
   ],
   "source": [
    "fig, axs = plt.subplots(1,2,figsize=(12, 6), gridspec_kw={'width_ratios': [1,1]})\n",
    "plot_cfi(supp_grid, cpd_vals, labels=[f'$X^{jj+1}$' for jj in range(X.shape[1])], colors=colors_all[::2], axs=axs[0])\n",
    "plot_cfi(supp_grid, pdp_vals, labels=[f'$X^{jj+1}$' for jj in range(X.shape[1])], colors=colors_all[::2], axs=axs[1], ylable='PDP')\n",
    "# axs[1].legend(loc='best', bbox_to_anchor=(1, 0.75, 0.2, 0.2))\n",
    "axs[0].annotate(r'$X^1$', (0.9, 3.5))\n",
    "axs[0].annotate(r'$X^3$', (0.9, 0.5))\n",
    "axs[0].annotate(r'$X^2$', (0.9, -4))\n",
    "axs[1].annotate(r'$X^1$', (0.9, 0.5))\n",
    "axs[1].annotate(r'$X^2$', (0.9, -10))\n",
    "axs[1].annotate(r'$X^3$', (0.9, -30))\n",
    "fig.set_size_inches(3, 1.2)\n",
    "fig.tight_layout()\n",
    "fig.savefig(\"example_f2_cpd_vs_pdp_nlm.pdf\", bbox_inches='tight')\n",
    "plt.show()"
   ]
  },
  {
   "cell_type": "markdown",
   "metadata": {},
   "source": [
    "CFI v.s. CFI (no projection) v.s. PI"
   ]
  },
  {
   "cell_type": "code",
   "execution_count": 36,
   "metadata": {},
   "outputs": [
    {
     "data": {
      "text/plain": [
       "array([ 1.94163733e+00, -1.94163733e+00, -4.61482565e-10])"
      ]
     },
     "execution_count": 36,
     "metadata": {},
     "output_type": "execute_result"
    }
   ],
   "source": [
    "df = num_df_mat(true_fun, 1e-5, X)\n",
    "cfi_index_vals = get_perturbation_cfi_index(X, df)\n",
    "cfi_index_vals"
   ]
  },
  {
   "cell_type": "code",
   "execution_count": 37,
   "metadata": {},
   "outputs": [
    {
     "data": {
      "text/plain": [
       "array([ 0.        , -4.71575039, -4.40021705])"
      ]
     },
     "execution_count": 37,
     "metadata": {},
     "output_type": "execute_result"
    }
   ],
   "source": [
    "df = num_df_mat(true_fun, 1e-5, X)\n",
    "cfi_index_vals = get_perturbation_cfi_index(X, df, proj=False)\n",
    "cfi_index_vals"
   ]
  },
  {
   "cell_type": "code",
   "execution_count": 38,
   "metadata": {},
   "outputs": [
    {
     "data": {
      "text/plain": [
       "array([ 0.        , 34.89888577, 25.39415958])"
      ]
     },
     "execution_count": 38,
     "metadata": {},
     "output_type": "execute_result"
    }
   ],
   "source": [
    "from sklearn.metrics import mean_squared_error\n",
    "\n",
    "B = 30\n",
    "perm_imp = np.zeros(3)\n",
    "baseline_mse = 0\n",
    "for jj in range(3):\n",
    "    for ii in range(B):\n",
    "        X_loc = X.copy()\n",
    "        rng.shuffle(X_loc[:,jj])\n",
    "        y_loc = true_fun(X_loc)\n",
    "        perm_imp[jj] += mean_squared_error(true_fun(X), y_loc) - baseline_mse\n",
    "perm_imp /= B\n",
    "perm_imp\n"
   ]
  },
  {
   "cell_type": "code",
   "execution_count": null,
   "metadata": {},
   "outputs": [],
   "source": []
  }
 ],
 "metadata": {
  "interpreter": {
   "hash": "f53aacd884b3d2139194a9a5efddb4b7fd076a613870a2f66e0c552fecd7a032"
  },
  "kernelspec": {
   "display_name": "Python 3.9.9 64-bit ('kb39')",
   "language": "python",
   "name": "python3"
  },
  "language_info": {
   "codemirror_mode": {
    "name": "ipython",
    "version": 3
   },
   "file_extension": ".py",
   "mimetype": "text/x-python",
   "name": "python",
   "nbconvert_exporter": "python",
   "pygments_lexer": "ipython3",
   "version": "3.9.9"
  },
  "orig_nbformat": 4
 },
 "nbformat": 4,
 "nbformat_minor": 2
}
