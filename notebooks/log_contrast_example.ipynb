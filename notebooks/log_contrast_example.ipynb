{
 "cells": [
  {
   "cell_type": "code",
   "execution_count": 1,
   "metadata": {},
   "outputs": [],
   "source": [
    "%load_ext autoreload\n",
    "%autoreload 2\n",
    "\n",
    "import sys\n",
    "sys.path.insert(0, \"../\")"
   ]
  },
  {
   "cell_type": "code",
   "execution_count": 2,
   "metadata": {},
   "outputs": [
    {
     "name": "stderr",
     "output_type": "stream",
     "text": [
      "/Users/hrt620/.pyenv/versions/3.9.9/envs/kb39/lib/python3.9/site-packages/jax/_src/lib/__init__.py:32: UserWarning: JAX on Mac ARM machines is experimental and minimally tested. Please see https://github.com/google/jax/issues/5501 in the event of problems.\n",
      "  warnings.warn(\"JAX on Mac ARM machines is experimental and minimally tested. \"\n"
     ]
    }
   ],
   "source": [
    "from kernelbiome.cfi_and_cpd import *\n",
    "from kernelbiome.utils_cv import *\n",
    "from kernelbiome.utils_result import *"
   ]
  },
  {
   "cell_type": "code",
   "execution_count": 3,
   "metadata": {},
   "outputs": [],
   "source": [
    "from matplotlib import rc\n",
    "rc('font', **{'family':'tex-gyre-termes', 'size':6.5})\n",
    "rc('text', usetex=True)\n",
    "rc('text.latex', preamble=r'\\usepackage{amsfonts,amssymb,amsthm,amsmath}')"
   ]
  },
  {
   "cell_type": "code",
   "execution_count": 4,
   "metadata": {},
   "outputs": [
    {
     "name": "stdout",
     "output_type": "stream",
     "text": [
      "(40, 4)\n"
     ]
    }
   ],
   "source": [
    "colors_all = np.vstack([plt.cm.tab20c(range(20)),plt.cm.tab20b(range(20))]) # plt.cm.tab10(range(10)), plt.cm.tab20(range(20)), plt.cm.tab20b(range(20)), \n",
    "colors_all = np.unique(colors_all, axis=0)\n",
    "print(colors_all.shape)"
   ]
  },
  {
   "cell_type": "code",
   "execution_count": 5,
   "metadata": {},
   "outputs": [],
   "source": [
    "def true_fun(X):\n",
    "    beta = np.array([2,-1,-1,0])\n",
    "    return np.log(X).dot(beta)"
   ]
  },
  {
   "cell_type": "code",
   "execution_count": 6,
   "metadata": {},
   "outputs": [],
   "source": [
    "def d_true_fun(X):\n",
    "    beta = np.array([2,-1,-1,0])\n",
    "    return 1/X * beta"
   ]
  },
  {
   "cell_type": "code",
   "execution_count": 7,
   "metadata": {},
   "outputs": [],
   "source": [
    "rng = np.random.default_rng(2022)"
   ]
  },
  {
   "cell_type": "code",
   "execution_count": 8,
   "metadata": {},
   "outputs": [],
   "source": [
    "n = 50\n",
    "p = 4\n",
    "X = np.exp(rng.normal(0,1,(n,p)))\n",
    "X /= X.sum(axis=1)[:,None]"
   ]
  },
  {
   "cell_type": "code",
   "execution_count": 9,
   "metadata": {},
   "outputs": [],
   "source": [
    "cpd_vals = get_cpd(X, X, true_fun)\n",
    "cfi_vals = get_cfi(X, d_true_fun(X))"
   ]
  },
  {
   "cell_type": "code",
   "execution_count": 13,
   "metadata": {},
   "outputs": [
    {
     "data": {
      "image/png": "[encoded data removed]",
      "text/plain": [
       "<Figure size 216x122.4 with 2 Axes>"
      ]
     },
     "metadata": {},
     "output_type": "display_data"
    }
   ],
   "source": [
    "plt.style.use(\"seaborn-white\")\n",
    "fig, axs = plt.subplots(1,2,gridspec_kw={'width_ratios': [2, 1]})\n",
    "plot_cpd(X, cpd_vals, labels=[f'$X^{jj+1}$' for jj in range(X.shape[1])], colors=colors_all[::4], axs=axs[0])\n",
    "axs[0].annotate(r'$X^1$', (0.82,4))\n",
    "axs[0].annotate(r'$X^4$', (0.82,0))\n",
    "axs[0].annotate(r'$X^2$', (0.82,-2))\n",
    "axs[0].annotate(r'$X^3$', (0.82,-4))\n",
    "plot_cfi(cfi_vals, fmt='%.2f', labels=[f'$X^{jj+1}$' for jj in range(X.shape[1])], colors=colors_all[::4], axs=axs[1], ascending=False)\n",
    "fig.set_size_inches(3, 1.7)\n",
    "fig.savefig(\"output/log_contrast_example.pdf\", bbox_inches='tight')"
   ]
  },
  {
   "cell_type": "code",
   "execution_count": null,
   "metadata": {},
   "outputs": [],
   "source": []
  }
 ],
 "metadata": {
  "interpreter": {
   "hash": "f53aacd884b3d2139194a9a5efddb4b7fd076a613870a2f66e0c552fecd7a032"
  },
  "kernelspec": {
   "display_name": "Python 3.9.9 64-bit ('kb39')",
   "language": "python",
   "name": "python3"
  },
  "language_info": {
   "codemirror_mode": {
    "name": "ipython",
    "version": 3
   },
   "file_extension": ".py",
   "mimetype": "text/x-python",
   "name": "python",
   "nbconvert_exporter": "python",
   "pygments_lexer": "ipython3",
   "version": "3.9.9"
  },
  "orig_nbformat": 4
 },
 "nbformat": 4,
 "nbformat_minor": 2
}
